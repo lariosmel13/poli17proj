{
 "cells": [
  {
   "cell_type": "code",
   "execution_count": 1,
   "id": "45d8d21b",
   "metadata": {},
   "outputs": [
    {
     "name": "stdout",
     "output_type": "stream",
     "text": [
      "     Subreddit                                          Image URL  Upvotes  \\\n",
      "0         ucla               https://i.redd.it/6tofwqt84nwc1.jpeg     1191   \n",
      "1         ucla                    https://v.redd.it/hy5tyh0rvrxc1      285   \n",
      "2         ucla               https://i.redd.it/e5m85zlngvyc1.jpeg       92   \n",
      "3         ucla               https://i.redd.it/ewqprnomvnwc1.jpeg      710   \n",
      "4         ucla  https://www.cbsnews.com/losangeles/news/pro-is...       53   \n",
      "..         ...                                                ...      ...   \n",
      "341        cmu               https://i.redd.it/k4e76uphffhc1.jpeg        0   \n",
      "342       CSUS             https://www.reddit.com/gallery/1cg6iec      132   \n",
      "343       CSUS   https://www.csus.edu/alert/#encampment-on-campus       13   \n",
      "344       CSUS             https://www.reddit.com/gallery/1byg3ea      169   \n",
      "345  AmericanU             https://www.reddit.com/gallery/1cd3gt8        0   \n",
      "\n",
      "             Date  \n",
      "0    1.714057e+09  \n",
      "1    1.714551e+09  \n",
      "2    1.715030e+09  \n",
      "3    1.714066e+09  \n",
      "4    1.714355e+09  \n",
      "..            ...  \n",
      "341  1.707426e+09  \n",
      "342  1.714415e+09  \n",
      "343  1.714619e+09  \n",
      "344  1.712526e+09  \n",
      "345  1.714081e+09  \n",
      "\n",
      "[346 rows x 4 columns]\n"
     ]
    }
   ],
   "source": [
    "import praw\n",
    "import pandas as pd\n",
    "from PIL import Image\n",
    "import requests\n",
    "\n",
    "#access api\n",
    "def get_image_posts(keywords, subreddits=None, limit=None, max_posts=600000):\n",
    "    reddit = praw.Reddit(\n",
    "        client_id='Pgl8vZVzWgNonBLHHzSwzw',\n",
    "        client_secret='UVZMYLXI56NoZgt41t0T4ufHk3RYHQ',\n",
    "        user_agent='Poli179proj/1.0 (https://github.com/lariosmel13/poli17proj.git)'\n",
    "    )\n",
    "#access posts\n",
    "    posts = []\n",
    "    \n",
    "    if subreddits is None:\n",
    "        subreddits = [\"all\"]\n",
    "    else:\n",
    "        subreddits = list(map(str.lower, subreddits))\n",
    "    \n",
    "    for subreddit_name in subreddits:\n",
    "        subreddit = reddit.subreddit(subreddit_name)\n",
    "        for submission in subreddit.search(query=' OR '.join(keywords), sort='relevance', syntax='cloudsearch', time_filter='all', limit=None):\n",
    "            if len(posts) >= max_posts:\n",
    "                break\n",
    "            #get subreddit name, title,image url, upvotes, date posted\n",
    "            submission_title = submission.title if isinstance(submission.title, str) else str(submission.title)\n",
    "            if not submission.is_self and any(keyword in submission_title.lower() for keyword in keywords):\n",
    "                submission_date=pd.to_datetime(submission.created_utc,unit='s')\n",
    "                if submission_date.year==2024:\n",
    "                    posts.append({\n",
    "                        'Subreddit': submission.subreddit.display_name,\n",
    "                        'Title': submission_title,\n",
    "                        'Image URL': submission.url,\n",
    "                        'Upvotes': submission.score,\n",
    "                        'Date': submission.created_utc\n",
    "                    })\n",
    "    return posts\n",
    "\n",
    "#target keywords and subreddits\n",
    "keywords = ['palestine','protest','israel','encampent']\n",
    "subreddits = ['ucla', 'UCSD', 'UCSB', 'UCSC', 'UCI', 'UCDavis', 'ucmerced', 'ucr', 'berkeley','columbia','Harvard','yale','princeton','georgetown','nyu','UIUC','aggies','ucf','Purdue','ASU','rit','uofm','rutgers','VirginiaTech','csuf','CSULB','CSULA','humboldtstate','Drexel','EmersonCollege','Emory','IndianaUniversity','mit','riceuniversity','stanford','PennStateUniversity','Berklee','bostoncollege','BostonU','Bowdoin','BrownU','Caltech','calarts','CalPoly','chapmanuniversity','Cornell','gwu','gatech','LSU','LMU','washu','VirginiaTech','Vanderbilt','UoP','udub','USC','usfca','UPenn','seattleu','scrippscollege','scad','SJSU','Pepperdine','pace','OregonStateUniv','jhu','harveymudd','Fordham','CUNY','claremontcolleges','Grinnell','Gonzaga','cmu','CalPolyPomona','CSUS','AmericanU','amherstcollege','baylor']\n",
    "\n",
    "posts = get_image_posts(keywords, subreddits=subreddits, limit=None, max_posts=600000)\n",
    "df = pd.DataFrame(posts)\n",
    "#create new df\n",
    "selected_columns = ['Subreddit', 'Image URL', 'Upvotes', 'Date']\n",
    "selected_df = df[selected_columns]\n",
    "print(selected_df)\n",
    "\n"
   ]
  },
  {
   "cell_type": "code",
   "execution_count": 2,
   "id": "f9e55c15",
   "metadata": {},
   "outputs": [],
   "source": [
    "#export df to csv file\n",
    "selected_df.to_csv('reddit_postsnew2.csv',index=False)"
   ]
  },
  {
   "cell_type": "code",
   "execution_count": 3,
   "id": "a9e8e13f",
   "metadata": {},
   "outputs": [],
   "source": [
    "import matplotlib.pyplot as plt"
   ]
  },
  {
   "cell_type": "code",
   "execution_count": 4,
   "id": "a1a724bb",
   "metadata": {},
   "outputs": [
    {
     "name": "stdout",
     "output_type": "stream",
     "text": [
      "    Subreddit                               Image URL  Upvotes        Date  \\\n",
      "0        ucla    https://i.redd.it/6tofwqt84nwc1.jpeg     1191  1714057255   \n",
      "2        ucla    https://i.redd.it/e5m85zlngvyc1.jpeg       92  1715029980   \n",
      "3        ucla    https://i.redd.it/ewqprnomvnwc1.jpeg      716  1714066466   \n",
      "7        ucla    https://i.redd.it/hkq810spbpxc1.jpeg      251  1714519831   \n",
      "11       ucla  https://www.reddit.com/gallery/1cyuhk6      469  1716475418   \n",
      "..        ...                                     ...      ...         ...   \n",
      "328       USC  https://www.reddit.com/gallery/1ccjuxc      205  1714022182   \n",
      "329       USC  https://www.reddit.com/gallery/1cdsos3      185  1714155969   \n",
      "340      CUNY  https://www.reddit.com/gallery/1am34q7       24  1707418507   \n",
      "341   Gonzaga    https://i.redd.it/4niav6kneuxc1.jpeg        1  1714581356   \n",
      "343      CSUS  https://www.reddit.com/gallery/1cg6iec      131  1714415405   \n",
      "\n",
      "              ID  \n",
      "0        Protest  \n",
      "2         School  \n",
      "3        Protest  \n",
      "7         School  \n",
      "11          Misc  \n",
      "..           ...  \n",
      "328  Screenshots  \n",
      "329      Protest  \n",
      "340      Protest  \n",
      "341  Screenshots  \n",
      "343  Screenshots  \n",
      "\n",
      "[116 rows x 5 columns]\n"
     ]
    }
   ],
   "source": [
    "import pandas as pd\n",
    "#replace image \n",
    "df2=pd.read_csv('reddit_postsnew22.csv')\n",
    "#drop rows where column has no image\n",
    "df2=df2.drop(df2[df2['Image']=='none'].index)\n",
    "\n",
    "#drops image column\n",
    "df2=df2.drop(columns=['Image'])\n",
    "print(df2)"
   ]
  },
  {
   "cell_type": "markdown",
   "id": "47b5dbda",
   "metadata": {},
   "source": []
  },
  {
   "cell_type": "code",
   "execution_count": 5,
   "id": "21bc7e8f",
   "metadata": {},
   "outputs": [
    {
     "name": "stdout",
     "output_type": "stream",
     "text": [
      "ID              \n",
      "Misc         11     0.330042\n",
      "             27     0.028209\n",
      "             41     0.092384\n",
      "             78     0.097320\n",
      "             85     0.084626\n",
      "                      ...   \n",
      "Screenshots  271    0.071043\n",
      "             272    0.169065\n",
      "             328    0.183453\n",
      "             341    0.000000\n",
      "             343    0.116906\n",
      "Name: Upvotes, Length: 115, dtype: float64\n"
     ]
    }
   ],
   "source": [
    "import pandas as pd\n",
    "\n",
    "\n",
    "def min_max_normalize_group(group):\n",
    "    min_val = group.min()\n",
    "    max_val = group.max()\n",
    "    return (group - min_val) / (max_val - min_val)\n",
    "\n",
    "# group by ID and apply Min-Max Scaling to Upvotes\n",
    "normalized_df = df2.groupby('ID')['Upvotes'].apply(min_max_normalize_group)\n",
    "\n",
    "print(normalized_df)\n"
   ]
  },
  {
   "cell_type": "code",
   "execution_count": 6,
   "id": "1707a927",
   "metadata": {},
   "outputs": [
    {
     "name": "stdout",
     "output_type": "stream",
     "text": [
      "ID\n",
      "Misc            5.668547\n",
      "Protest        11.971039\n",
      "School          3.825000\n",
      "Screenshots     4.557554\n",
      "Name: Upvotes, dtype: float64\n",
      "Protest\n"
     ]
    }
   ],
   "source": [
    "add_upvotes=normalized_df.groupby('ID').sum()\n",
    "print(add_upvotes)\n",
    "most_upvotes=add_upvotes.idxmax()\n",
    "print(most_upvotes)"
   ]
  },
  {
   "cell_type": "code",
   "execution_count": 7,
   "id": "88335327",
   "metadata": {},
   "outputs": [
    {
     "name": "stdout",
     "output_type": "stream",
     "text": [
      "     Upvotes           ID\n",
      "0       1191      Protest\n",
      "2         92       School\n",
      "3        716      Protest\n",
      "7        251       School\n",
      "11       469         Misc\n",
      "..       ...          ...\n",
      "328      205  Screenshots\n",
      "329      185      Protest\n",
      "340       24      Protest\n",
      "341        1  Screenshots\n",
      "343      131  Screenshots\n",
      "\n",
      "[116 rows x 2 columns]\n"
     ]
    }
   ],
   "source": [
    "new_df = df2.drop(columns=['Date', 'Subreddit','Image URL'])\n",
    "\n",
    "print(new_df)"
   ]
  },
  {
   "cell_type": "code",
   "execution_count": 8,
   "id": "9b1c23f9",
   "metadata": {},
   "outputs": [
    {
     "name": "stdout",
     "output_type": "stream",
     "text": [
      "              ID  level_1   Upvotes\n",
      "0           Misc       11  0.330042\n",
      "1           Misc       27  0.028209\n",
      "2           Misc       41  0.092384\n",
      "3           Misc       78  0.097320\n",
      "4           Misc       85  0.084626\n",
      "..           ...      ...       ...\n",
      "110  Screenshots      271  0.071043\n",
      "111  Screenshots      272  0.169065\n",
      "112  Screenshots      328  0.183453\n",
      "113  Screenshots      341  0.000000\n",
      "114  Screenshots      343  0.116906\n",
      "\n",
      "[115 rows x 3 columns]\n"
     ]
    }
   ],
   "source": [
    "import pandas as pd\n",
    "\n",
    "def min_max_normalize_group(group):\n",
    "    min_val = group.min()\n",
    "    max_val = group.max()\n",
    "    return (group - min_val) / (max_val - min_val)\n",
    "\n",
    "\n",
    "normalized_df = df2.groupby('ID')['Upvotes'].apply(min_max_normalize_group).reset_index()\n",
    "\n",
    "print(normalized_df)\n"
   ]
  },
  {
   "cell_type": "code",
   "execution_count": 9,
   "id": "824dff4c",
   "metadata": {},
   "outputs": [
    {
     "data": {
      "image/png": "[encoded data removed]",
      "text/plain": [
       "<Figure size 720x432 with 1 Axes>"
      ]
     },
     "metadata": {
      "needs_background": "light"
     },
     "output_type": "display_data"
    },
    {
     "name": "stdout",
     "output_type": "stream",
     "text": [
      "Feature Importances:\n",
      "level_1 : 0.9242322832020349\n",
      "ID_Misc : 0.019415558389848743\n",
      "ID_Protest : 0.020358097414728337\n",
      "ID_School : 0.020974970469276773\n",
      "ID_Screenshots : 0.015019090524111437\n",
      "MSE: 0.07511681714524578\n"
     ]
    }
   ],
   "source": [
    "from sklearn.model_selection import train_test_split, GridSearchCV\n",
    "from sklearn.ensemble import GradientBoostingRegressor\n",
    "from sklearn.metrics import mean_squared_error\n",
    "import matplotlib.pyplot as plt\n",
    "import seaborn as sns\n",
    "import pandas as pd\n",
    "\n",
    "df = pd.get_dummies(normalized_df, columns=['ID'])\n",
    "\n",
    "X = df.drop(columns=['Upvotes'])\n",
    "y = df['Upvotes']\n",
    "\n",
    "X_train, X_test, y_train, y_test = train_test_split(X, y, test_size=0.2, random_state=42)\n",
    "\n",
    "# hyperparameter tuning\n",
    "param_grid_gb = {\n",
    "    'n_estimators': [100, 200, 300],\n",
    "    'learning_rate': [0.05, 0.1, 0.2],\n",
    "    'max_depth': [3, 4, 5]\n",
    "}\n",
    "grid_search_gb = GridSearchCV(GradientBoostingRegressor(), param_grid_gb, cv=5)\n",
    "grid_search_gb.fit(X_train, y_train)\n",
    "best_gb_model = grid_search_gb.best_estimator_\n",
    "\n",
    "# prediction\n",
    "y_pred = best_gb_model.predict(X_test)\n",
    "mse = mean_squared_error(y_test, y_pred)\n",
    "\n",
    "# actual vs predicted engagement\n",
    "plt.figure(figsize=(10, 6))\n",
    "sns.scatterplot(x=y_test, y=y_pred)\n",
    "plt.xlabel('Actual Engagement')\n",
    "plt.ylabel('Predicted Engagement')\n",
    "plt.title('Actual vs Predicted Engagement (Gradient Boosting)')\n",
    "\n",
    "# diagonal line\n",
    "min_val = min(min(y_test), min(y_pred))\n",
    "max_val = max(max(y_test), max(y_pred))\n",
    "plt.plot([min_val, max_val], [min_val, max_val], color='red', linestyle='--')\n",
    "plt.show()\n",
    "\n",
    "# coefficients\n",
    "if hasattr(best_gb_model, 'feature_importances_'):\n",
    "    print('Feature Importances:')\n",
    "    for feature, importance in zip(X.columns, best_gb_model.feature_importances_):\n",
    "        print(feature, ':', importance)\n",
    "print('MSE:', mse)\n"
   ]
  },
  {
   "cell_type": "code",
   "execution_count": null,
   "id": "86280c6a",
   "metadata": {},
   "outputs": [],
   "source": []
  }
 ],
 "metadata": {
  "kernelspec": {
   "display_name": "Python 3 (ipykernel)",
   "language": "python",
   "name": "python3"
  },
  "language_info": {
   "codemirror_mode": {
    "name": "ipython",
    "version": 3
   },
   "file_extension": ".py",
   "mimetype": "text/x-python",
   "name": "python",
   "nbconvert_exporter": "python",
   "pygments_lexer": "ipython3",
   "version": "3.9.5"
  }
 },
 "nbformat": 4,
 "nbformat_minor": 5
}
